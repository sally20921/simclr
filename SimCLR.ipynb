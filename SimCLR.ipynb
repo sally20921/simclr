{
  "nbformat": 4,
  "nbformat_minor": 0,
  "metadata": {
    "colab": {
      "name": "SimCLR.ipynb",
      "provenance": [],
      "machine_shape": "hm",
      "authorship_tag": "ABX9TyM7y6vP5vD33uC5YwhUpxyl",
      "include_colab_link": true
    },
    "kernelspec": {
      "name": "python3",
      "display_name": "Python 3"
    }
  },
  "cells": [
    {
      "cell_type": "markdown",
      "metadata": {
        "id": "view-in-github",
        "colab_type": "text"
      },
      "source": [
        "<a href=\"https://colab.research.google.com/github/sally20921/simclr/blob/master/SimCLR.ipynb\" target=\"_parent\"><img src=\"https://colab.research.google.com/assets/colab-badge.svg\" alt=\"Open In Colab\"/></a>"
      ]
    },
    {
      "cell_type": "code",
      "metadata": {
        "id": "VO7ruT1yD0dC",
        "colab_type": "code",
        "colab": {
          "base_uri": "https://localhost:8080/",
          "height": 136
        },
        "outputId": "1780b9c9-ae32-417b-8025-e3b5238f1f78"
      },
      "source": [
        "!git clone https://github.com/Spijkervet/SimCLR.git"
      ],
      "execution_count": 1,
      "outputs": [
        {
          "output_type": "stream",
          "text": [
            "Cloning into 'SimCLR'...\n",
            "remote: Enumerating objects: 63, done.\u001b[K\n",
            "remote: Counting objects: 100% (63/63), done.\u001b[K\n",
            "remote: Compressing objects: 100% (49/49), done.\u001b[K\n",
            "remote: Total 339 (delta 25), reused 28 (delta 10), pack-reused 276\u001b[K\n",
            "Receiving objects: 100% (339/339), 282.65 KiB | 3.62 MiB/s, done.\n",
            "Resolving deltas: 100% (174/174), done.\n"
          ],
          "name": "stdout"
        }
      ]
    },
    {
      "cell_type": "code",
      "metadata": {
        "id": "iwcqVLrhEVg6",
        "colab_type": "code",
        "colab": {
          "base_uri": "https://localhost:8080/",
          "height": 34
        },
        "outputId": "b48ae607-4ffd-43cb-8268-a77658249bf2"
      },
      "source": [
        "cd SimCLR\n"
      ],
      "execution_count": 1,
      "outputs": [
        {
          "output_type": "stream",
          "text": [
            "/content/SimCLR\n"
          ],
          "name": "stdout"
        }
      ]
    },
    {
      "cell_type": "code",
      "metadata": {
        "id": "61e8h73oEY7E",
        "colab_type": "code",
        "colab": {
          "base_uri": "https://localhost:8080/",
          "height": 68
        },
        "outputId": "7d6eb04a-2567-44e2-a1ab-55b37faf9b7b"
      },
      "source": [
        "ls"
      ],
      "execution_count": 6,
      "outputs": [
        {
          "output_type": "stream",
          "text": [
            "\u001b[0m\u001b[01;34mconfig\u001b[0m/          LICENSE  model.py   requirements.txt  \u001b[01;32msetup.sh\u001b[0m*\n",
            "environment.yml  main.py  \u001b[01;34mmodules\u001b[0m/   \u001b[01;32mrun_all.sh\u001b[0m*       \u001b[01;34mtesting\u001b[0m/\n",
            "experiment.py    \u001b[01;34mmedia\u001b[0m/   README.md  \u001b[01;32msetup_apex.sh\u001b[0m*    \u001b[01;34mutils\u001b[0m/\n"
          ],
          "name": "stdout"
        }
      ]
    }
  ]
}